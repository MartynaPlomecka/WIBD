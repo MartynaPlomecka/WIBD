{
  "nbformat": 4,
  "nbformat_minor": 0,
  "metadata": {
    "anaconda-cloud": {},
    "kernelspec": {
      "display_name": "Python 3",
      "language": "python",
      "name": "python3"
    },
    "language_info": {
      "codemirror_mode": {
        "name": "ipython",
        "version": 3
      },
      "file_extension": ".py",
      "mimetype": "text/x-python",
      "name": "python",
      "nbconvert_exporter": "python",
      "pygments_lexer": "ipython3",
      "version": "3.7.4"
    },
    "colab": {
      "name": "WIBD_eval_classifiers",
      "provenance": []
    }
  },
  "cells": [
    {
      "cell_type": "markdown",
      "metadata": {
        "id": "bjgJk8e62OH4"
      },
      "source": [
        "# Tutorial WIBD: Evaluating Classifiers\n",
        "\n",
        "Objectives:\n",
        "- implementing different metrics used in the evaluation of classifiers\n",
        "- understanding how these measures are calculated on a small example \n",
        "- applying these metrics in the context of synthetic data that emulates the output of different classifiers\n",
        "- exploring theoretical aspects related to the evaluation of classifiers\n",
        "- to plot receiver operating characteristic (ROC) curve\n",
        "\n",
        "## Introduction\n",
        "Many problems in data mining are treated as <b>binary classification problems</b>. A number of evaluation measures are used to determine the performance of a binary predictor. These measure are calculated from a <b>confusion matrix (or contingency table)</b> consisting of the numbers of true positives (TP), true negatives (TN), false positives (FP), and false negatives (FN).\n",
        "\n",
        "|yTrue | yPredicted | TP/TN/FP/FN |\n",
        "|------|------------|-------------|\n",
        "|1     |     1      |<font color=\"green\">TP</font>   |\n",
        "|1     |    0       |<font color=\"orange\">FN</font>  |    \n",
        "|0     |     1      |<font color=\"red\">FP</font>     |  \n",
        "|0     |    0       |<font color=\"blue\">TN</font>    |  \n",
        "    \n",
        "<font color=\"green\">TP</font>, <font color=\"blue\">TN</font>  -> correct classification\n",
        "\n",
        "<font color=\"orange\">FN</font>, <font color=\"red\">FP</font> -> incorrect classification\n",
        "    \n",
        "Confusion matrix:\n",
        "\n",
        "| pred/true |yTrue = 1 | yTrue = 0|\n",
        "|-|------------|------------|\n",
        "|<b>yPred = 1</b> | <font color=\"green\">TP</font>  | <font color=\"red\">FP</font> |      \n",
        "|<b>yPred = 0</b> | <font color=\"orange\">FN</font> | <font color=\"blue\">TN</font>|"
      ]
    },
    {
      "cell_type": "markdown",
      "metadata": {
        "id": "TKXk5W4Y2OH5"
      },
      "source": [
        "### Evaluation measures\n",
        "\n",
        "#### 1) Accuracy:\n",
        "\\begin{equation*}\\frac{\\color{green}{TP}+ \\color{blue}{TN}}{TP+TN+FP+FN}\\end{equation*}\n",
        "\n",
        "#### 2) Recall:\n",
        "Recall is also called sensitivity or true positive rate.\n",
        "\\begin{equation*}\\frac{\\color{green}{TP}}{\\color{green}{TP}+ \\color{orange}{FN}}\\end{equation*}\n",
        "\n",
        "#### 3) Precision:\n",
        "Precision is also called positive predictive value.\n",
        "\\begin{equation*}\\frac{\\color{green}{TP}}{\\color{green}{TP}+ \\color{red}{FP}}\\end{equation*}\n",
        "\n",
        "#### 4) False positive rate (FPR):\n",
        "\\begin{equation*}\\frac{\\color{red}{FP}}{\\color{blue}{TN} + \\color{red}{FP}}\\end{equation*}\n",
        "\n",
        "#### 5) Specificity:\n",
        "\\begin{equation*}\\frac{\\color{blue}{TN}}{\\color{blue}{TN} + \\color{red}{FP}} = \\frac{TN+FP-FP}{TN+FP} = \\frac{TN+FP}{TN+FP} - \\frac{FP}{TN+FP}= \\textbf{1} - \\frac{\\color{red}{FP}}{\\color{blue}{TN} + \\color{red}{FP}}\\end{equation*}"
      ]
    },
    {
      "cell_type": "markdown",
      "metadata": {
        "id": "qGkjep-X2OH6"
      },
      "source": [
        "## Exercise 1\n",
        "Calculate the confusion matrix, accuracy, precision, recall, TP rate and FP rate on the following toy dataset, composed by 10 samples:\n",
        "\n",
        "|True label | Predicted label |? = TP/FP/FN/TN|\n",
        "|-|-|-|\n",
        "|0 |0 | <font color=\"blue\">TN</font>|\n",
        "|1 |0 | <font color=\"orange\">FN</font>|  \n",
        "|1 |1 |  <font color=\"green\">TP</font> |   \n",
        "|1 |1 |  <font color=\"green\">TP</font> |   \n",
        "|0 |1 | <font color=\"red\">FP</font> |\n",
        "|0 |1 | <font color=\"red\">FP</font> |\n",
        "|0 |0 | <font color=\"blue\">TN</font>|\n",
        "|0 |0 | <font color=\"blue\">TN</font>|\n",
        "|0 |0 | <font color=\"blue\">TN</font>|\n",
        "|0 |1 | <font color=\"red\">FP</font> |\n",
        "\n",
        "\n",
        "Contingency table:\n",
        "\n",
        "| pred/true |yTrue = 1 | yTrue = 0|\n",
        "|-|------------|------------|\n",
        "|<b>yPred = 1</b> |<font color=\"green\">2</font> | <font color=\"red\">3</font>|      \n",
        "|<b>yPred = 0</b> | <font color=\"orange\">1</font> | <font color=\"blue\">4</font>|\n",
        "\n",
        "Let's check if our contingency table is correct using the below Python functions! Moreover, we will calculate in Python accuracy, precision, recall, true positive rate, and false positive rate for the above toy-dataset."
      ]
    },
    {
      "cell_type": "code",
      "metadata": {
        "colab": {
          "base_uri": "https://localhost:8080/"
        },
        "id": "swG1jkwd2OH6",
        "outputId": "e82c2a01-9b57-42b1-c6ba-4d6209cf3c34"
      },
      "source": [
        "import numpy as np\n",
        "\n",
        "\n",
        "    \n",
        "def confusion_matrix(y_true, y_pred):\n",
        "    '''\n",
        "    Function for counting the TP, FP, TN and FN. \n",
        "    These counts will be useful for the calculation\n",
        "    of precision, recall, etc.\n",
        "    '''\n",
        "    # control on the labels\n",
        "    if ((set(np.unique(y_true)) != set([1, 0])) or \\\n",
        "        (set(np.unique(y_pred)) != set([1, 0]))):\n",
        "        raise Exception\n",
        "\n",
        "    positive_indexes = (y_true == 1)\n",
        "    negative_indexes = (y_true == 0)\n",
        "    #print(positive_indexes)\n",
        "    \n",
        "    tp = sum(y_pred[positive_indexes] == 1)\n",
        "    tn = sum(y_pred[negative_indexes] == 0)\n",
        "    fp = sum(y_pred[negative_indexes] == 1)\n",
        "    fn = sum(y_pred[positive_indexes] == 0)\n",
        "    \n",
        "    #print(y_pred[positive_indexes] == 1)\n",
        "    \n",
        "    return np.array([[tp, fp], [fn, tn]])\n",
        "\n",
        "\n",
        "############################# MAIN ################################\n",
        "# Global constants (for convenience)\n",
        "# They represent the coordinates of the TP, FP, TN, FN\n",
        "# in the confusion matrix given as output by confusion_matrix()\n",
        "TP, FP, FN, TN = (0, 0), (0, 1), (1, 0), (1, 1)\n",
        "\n",
        "# Small example for better understanding the confusion_matrix():\n",
        "true_labels      = np.array([0,  1,  1,  1,  0,  0,  0,  0,  0,  0])\n",
        "predicted_labels = np.array([0,  0,  1,  1,  1,  1,  0,  0,  0,  1])\n",
        "\n",
        "n = len(true_labels) # number of samples\n",
        "counts = confusion_matrix(true_labels, predicted_labels)\n",
        "\n",
        "print('Confusion matrix:\\n\\t|true = 1\\t|true = 0')\n",
        "print('--------|---------------|------------')\n",
        "print('pred = 1|  ' + str(counts[TP]) + '\\t\\t|' + str(counts[FP]))\n",
        "print('pred = 0|  ' + str(counts[FN]) + '\\t\\t|' + str(counts[TN]))\n"
      ],
      "execution_count": null,
      "outputs": [
        {
          "output_type": "stream",
          "text": [
            "Confusion matrix:\n",
            "\t|true = 1\t|true = 0\n",
            "--------|---------------|------------\n",
            "pred = 1|  2\t\t|3\n",
            "pred = 0|  1\t\t|4\n"
          ],
          "name": "stdout"
        }
      ]
    },
    {
      "cell_type": "code",
      "metadata": {
        "colab": {
          "base_uri": "https://localhost:8080/"
        },
        "id": "oOJZxx712OH7",
        "outputId": "5a909f4f-b567-4a60-f5a8-9b92c279b009"
      },
      "source": [
        "def compute_accuracy(y_true, y_pred):\n",
        "    mat_counts = confusion_matrix(y_true, y_pred)\n",
        "    return (mat_counts[TP] + mat_counts[TN]) / mat_counts.sum()\n",
        "\n",
        "def compute_precision(y_true, y_pred):\n",
        "    mat_counts = confusion_matrix(y_true, y_pred)\n",
        "    return mat_counts[TP] / (mat_counts[TP] + mat_counts[FP])\n",
        "\n",
        "def compute_recall(y_true, y_pred):\n",
        "    mat_counts = confusion_matrix(y_true, y_pred)\n",
        "    return mat_counts[TP] / (mat_counts[TP] + mat_counts[FN])\n",
        "\n",
        "def compute_tp_rate(y_true, y_pred):\n",
        "    return compute_recall(y_true, y_pred)\n",
        "\n",
        "def compute_fp_rate(y_true, y_pred):\n",
        "    mat_counts = confusion_matrix(y_true, y_pred)\n",
        "    return mat_counts[FP] / (mat_counts[TN] + mat_counts[FP])\n",
        "\n",
        "\n",
        "############################# MAIN ################################\n",
        "# Calculate the performance measures on the small toy-example\n",
        "acc_toy     = compute_accuracy(true_labels, predicted_labels)\n",
        "prec_toy    = compute_precision(true_labels, predicted_labels)\n",
        "rec_toy     = compute_recall(true_labels, predicted_labels)\n",
        "TP_rate_toy = compute_tp_rate(true_labels, predicted_labels)\n",
        "FP_rate_toy = compute_fp_rate(true_labels, predicted_labels)\n",
        "\n",
        "# Print results\n",
        "print('Accuracy = (TP + TN)/(TP + TN + FP + FN) = ' + str(np.round(acc_toy, 3)))\n",
        "print('Precision = TP/(TP + FP) = ' + str(np.round(prec_toy, 3)))\n",
        "print('Recall = TP/(TP + FN) = ' + str(np.round(rec_toy, 3)))\n",
        "print('TP rate = TP/(TP + FN) = ' + str(np.round(TP_rate_toy, 3)))\n",
        "print('FP rate = FP/(TN + FP) = ' + str(np.round(FP_rate_toy, 3)))"
      ],
      "execution_count": null,
      "outputs": [
        {
          "output_type": "stream",
          "text": [
            "Accuracy = (TP + TN)/(TP + TN + FP + FN) = 0.6\n",
            "Precision = TP/(TP + FP) = 0.4\n",
            "Recall = TP/(TP + FN) = 0.667\n",
            "TP rate = TP/(TP + FN) = 0.667\n",
            "FP rate = FP/(TN + FP) = 0.429\n"
          ],
          "name": "stdout"
        }
      ]
    },
    {
      "cell_type": "markdown",
      "metadata": {
        "id": "k04ZfN562OH8"
      },
      "source": [
        "## Exercise 2: classifiers performance\n",
        "\n",
        "### Input data\n",
        "\n",
        "We are given results of three classifiers, namely h1, h2, and h3. These 3 classifiers were trained on a prostate cancer dataset, and their goal is to perform a <b>binary classification of tissue</b> as:\n",
        "- <i>healthy</i>, with label = <b>-1</b>\n",
        "- <i>tumor</i>, with label = <b>1</b>\n",
        "\n",
        "The results are in a tab-separated format. The first line corresponds to the header, and indicates that the first column corresponds to the true class, while the second column corresponds to the predicted class. Since we have 3 classifiers, we are given 3 different files in the just described format. For example:\n",
        "\n",
        "|yTrue | yPredicted |\n",
        "|------|------------|\n",
        "|-1    |    -1      |\n",
        "|-1    |    -1      |\n",
        "|-1    |     1      |\n",
        "|-1    |     1      |\n",
        "| 1    |    -1      |\n",
        "|...   |...         |\n",
        "\n",
        "<b>Note:</b> \n",
        "\n",
        "- we do not know the details of how h1, h2, and h3 are constructed: we only know that they have been trained on the same training set, and tested on the same test set. \n",
        "\n",
        "- the number of tissue's samples belonging to the <i>tumor class</i>, i.e. having label 1, is 169. Instead, the number of <i>healthy</i> tissue's samples, i.e. having label -1, is 1171. Therefore, there is <b>class imbalance</b>.\n"
      ]
    },
    {
      "cell_type": "code",
      "metadata": {
        "colab": {
          "base_uri": "https://localhost:8080/"
        },
        "id": "H9gX6RIZ2OH8",
        "outputId": "e8f51696-bffb-4d74-d9fa-e3acefa46e77"
      },
      "source": [
        "def read_classifier(filename):\n",
        "    '''\n",
        "    Function for reading the classifiers\n",
        "    output files described in the introduction.\n",
        "    '''\n",
        "    data = np.loadtxt(filename, skiprows = 1)\n",
        "\n",
        "    y_true = data[:, 0]\n",
        "    y_pred = data[:, 1]\n",
        "    \n",
        "    # binarize the vectors (to used the functions\n",
        "    # defined above) ~ it would be better to copy \n",
        "    # the vectors before modifying their value\n",
        "    y_true[y_true == -1] = 0\n",
        "    y_pred[y_pred == -1] = 0\n",
        "    return y_true, y_pred\n",
        "\n",
        "\n",
        "############################# MAIN ################################\n",
        "# Apply the developed functions for assessing h1, h2, h3 performance:\n",
        "h1 = read_classifier('h1_evaluation.txt')\n",
        "h2 = read_classifier('h2_evaluation.txt')\n",
        "h3 = read_classifier('h3_evaluation.txt')\n",
        "\n",
        "# h*[0] is a vector containing the true labels\n",
        "# h*[1] is a vector containing the predicted labels\n",
        "# * = 1, 2, or 3\n",
        "\n",
        "print('\\tAcc\\tPrec\\tRec\\tTPR\\tFPR\\t|TP\\tTN\\tFP\\tFN')\n",
        "\n",
        "for i, h in enumerate([h1, h2, h3]):\n",
        "    conf_mat  =  confusion_matrix(h[0], h[1])\n",
        "    acc       =  compute_accuracy(h[0], h[1])\n",
        "    prec      =  compute_precision(h[0], h[1])\n",
        "    rec       =  compute_recall(h[0], h[1])\n",
        "    tpr       =  compute_tp_rate(h[0], h[1])\n",
        "    fpr       =  compute_fp_rate(h[0], h[1])\n",
        "    print('h%d\\t%.2f\\t%.2f\\t%.2f\\t%.2f\\t%.2f\\t|%d\\t%d\\t%d\\t%d' \\\n",
        "    % (i+1, acc, prec, rec, tpr, fpr, conf_mat[TP], conf_mat[TN], conf_mat[FP], conf_mat[FN]))\n"
      ],
      "execution_count": null,
      "outputs": [
        {
          "output_type": "stream",
          "text": [
            "\tAcc\tPrec\tRec\tTPR\tFPR\t|TP\tTN\tFP\tFN\n",
            "h1\t0.77\t0.31\t0.66\t0.66\t0.21\t|111\t920\t251\t58\n",
            "h2\t0.29\t0.14\t0.94\t0.94\t0.81\t|159\t225\t946\t10\n",
            "h3\t0.83\t0.11\t0.05\t0.05\t0.06\t|8\t1105\t66\t161\n"
          ],
          "name": "stdout"
        }
      ]
    },
    {
      "cell_type": "markdown",
      "metadata": {
        "id": "iUhJWqeF2OH8"
      },
      "source": [
        "### 2.1) Calculate confusion matrix, accuracy, precision, recall, TPR, and FPR for h1, h2 and h3 & answer the following questions\n",
        "\n",
        "#### Questions\n",
        "Looking at the results, we want to answer the following questions:\n",
        "\n",
        "- Once a patient’s tissue is classified as <i>tumor</i>, the patient is prescribed a treatment that includes radiation therapy and chemotherapy. Due to its aggressive nature, a group of clinicians wants to <b>prescribe this treatment only to patients for which there is a high confidence that they have prostate cancer</b>. They want to minimize the number of patients that are diagnosed as having cancer when they are actually healthy. Which classifier seems more appropriate for this task? Why?\n",
        "\n",
        "\n",
        "- A different group of doctors is <b>more concerned about the survival of their patients</b> and wants to maximize the number of true cancer patients whose tissue is correctly predicted as tumor. In other words, they are less concerned about prescribing chemo and radiation therapy to those who do not need it. Which classifier seems more appropriate for this task? Why?\n",
        "\n",
        "\n",
        "- The researchers that developed the classifiers concluded that, in the case of our data, the best classifier is not the one which gives the best accuracy. Do you agree with that assessment? Why?\n",
        "\n",
        "#### Answers\n",
        "\n",
        "1) We are interested in finding a classifier with <u>the lowest number of FPs</u>. By comparing the confusion matrix, we can identify classifier h3 as the one with the lower number of FPs (even if h3 cannot be considered a good classifier, more about this topic in the last question). In general, when looking for the classifier having a low value of FPs we can exploit due criteria which use the performance metrics calculated above:\n",
        "- minimum FPR --> h3\n",
        "- maximum precision --> h1\n",
        "\n",
        "A good recommendation here would be to use h1.\n",
        " \n",
        "\n",
        "2) This scenario calls for a classifier with <u>high recall</u>. We basically want a high proportion of true positives to be classified as such. Therefore, classifier h2 is the best for this task. \n",
        "\n",
        "\n",
        "\n",
        "3) The assessment is correct because the classifier with the best accuracy is h3, and its classification performance is very poor when considering its precision and recall. The classifier seems to predict almost all tissue samples as healthy. The high accuracy is a result of class imbalance (the number of patients labelled as healthy is ∼7 larger than the number of patients labelled as tumor)\n",
        "    \n",
        "\n",
        "### 2.2) Hamming distance as measure of classification performance\n",
        "\n",
        "What is the hamming distance between the binarized versions of y_true and y_pred for each classifier h1, h2, and h3?\n"
      ]
    },
    {
      "cell_type": "code",
      "metadata": {
        "colab": {
          "base_uri": "https://localhost:8080/"
        },
        "id": "iHj4nkFt2OH9",
        "outputId": "042910f1-58e7-4e3f-8a81-3f906a783312"
      },
      "source": [
        "def binarize(vector):\n",
        "    '''\n",
        "    Function for binarizing a vector\n",
        "    '''\n",
        "    v = vector.copy()\n",
        "    v[v == -1] = 0\n",
        "    return v\n",
        "\n",
        "\n",
        "def hamming_distance(u, v):\n",
        "    '''\n",
        "    Function for calculating the\n",
        "    Hamming distance between 2\n",
        "    binary vectors u and v, having \n",
        "    the same length.\n",
        "    '''\n",
        "    return np.sum(np.abs(u - v))\n",
        "\n",
        "\n",
        "###################### MAIN ########################\n",
        "print('Classifier\\tHamming distance')\n",
        "for i, h in enumerate([h1, h2, h3]):\n",
        "    y_true_bin = binarize(h[0])\n",
        "    y_pred_bin = binarize(h[1])\n",
        "    dist = hamming_distance(y_true_bin, y_pred_bin)\n",
        "    print('h%d\\t\\t%d' % (i+1, dist))\n"
      ],
      "execution_count": null,
      "outputs": [
        {
          "output_type": "stream",
          "text": [
            "Classifier\tHamming distance\n",
            "h1\t\t309\n",
            "h2\t\t956\n",
            "h3\t\t227\n"
          ],
          "name": "stdout"
        }
      ]
    },
    {
      "cell_type": "markdown",
      "metadata": {
        "id": "f9HLDeNn2OH9"
      },
      "source": [
        "#### Questions\n",
        "- In relation to the counts TP, FP, FN and TN, how can we formulate the Hamming distance, i.e. hamming distance = ? + ?\n",
        "\n",
        "- Is the Hamming distance an appropriate measure of classification performance for h1, h2 and h3? Why?\n",
        "\n",
        "#### Answers\n",
        "1) The Hamming distance measures the number of incorrect predictions made by the classifier, i.e. <i> hamming distance = FP + FN </i>\n",
        "\n",
        "2) Due to class imbalance, the Hamming distance is not a good choice to measure the performance of h1, h2, and h3.\n"
      ]
    },
    {
      "cell_type": "markdown",
      "metadata": {
        "id": "Tv71zsTc2OH9"
      },
      "source": [
        "## Exercise 3: ROC curve\n",
        "\n",
        "### Input\n",
        "You are given results of two classifiers, namely h4 and h5. The objective of the classifiers is to classify patients as:\n",
        "- <i>coronary heart disease </i>, with label = <b>1</b>\n",
        "- <i>non-coronary heart disease </i>, with label = <b>0</b>\n",
        "\n",
        "\n",
        "The results are raw confidence scores in a tab-separated format, and the first line is the header:\n",
        "\n",
        "|yTrue | yPredicted |\n",
        "|------|------------|\n",
        "|1     |    0.43    |\n",
        "|1     |    0.88    |\n",
        "|0     |    0.15    |\n",
        "|0     |    0.77    |\n",
        "|...   |    ...     |\n",
        "\n",
        "Here, the high values represent a high confidence that a patient has a coronary heart disease, while the low values represent a low confidence, that is, the patient probably does not have a coronary heart disease. For values between 0 and 1 the clinicians normally use a threshold θ to binarize the predictions.\n",
        "\n",
        "In this dataset there are 2320 points: 1047 in the positive class & 1273 in the negative class.\n",
        "\n",
        "<b>Note:</b> as for h1, h2, and h3, training and testing for h4 and h5 have been done under the same conditions.\n",
        "\n",
        "### 3.1) Plot the receiver-operating characteristics curves of the two classifiers\n"
      ]
    },
    {
      "cell_type": "code",
      "metadata": {
        "colab": {
          "base_uri": "https://localhost:8080/",
          "height": 332
        },
        "id": "84LdrELZ2OH-",
        "outputId": "6f0a4e37-8140-4024-ed88-766d0bb5a543"
      },
      "source": [
        "def compute_xy_roc_curve(y_true, y_pred):\n",
        "    '''\n",
        "    Function for obtaining the ROC curve\n",
        "    the axes are: FPR and TPR. \n",
        "    FPR = FP/(FP+TN)\n",
        "    TPR = TP/(TP+FN)\n",
        "    '''\n",
        "    n_positives = sum(y_true == 1) # TP+FN\n",
        "    n_negatives = sum(y_true == 0) # FP+TN\n",
        "\n",
        "    if n_positives == 0 or n_negatives == 0:\n",
        "        raise Exception\n",
        "    \n",
        "    # sorting the samples according to the ranking, in descendent order\n",
        "    index = np.argsort(y_pred)[::-1]\n",
        "    sorted_y_true = y_true[index]\n",
        "    sorted_y_pred = y_pred[index]\n",
        "    \n",
        "    # initialization\n",
        "    fpr, tpr = [], []\n",
        "    tp, fp = 0, 0 # situation at the beginning, i.e. when every\n",
        "                  # sample is predicted as negative\n",
        "    previous_y_p = None # this is the threshold\n",
        "    \n",
        "    # calculating the fpr and tpr per each different threshold\n",
        "    for y_t, y_p in zip(sorted_y_true, sorted_y_pred):\n",
        "        if previous_y_p is None or y_p != previous_y_p: \n",
        "            # if there is a new value for the confidence, we update the\n",
        "            # threshold and we calculate tpr and fpr. \n",
        "            # If we have the same confidency value as before, we do NOT\n",
        "            # update the threshold, we do NOT calculate the fpr and tpr, \n",
        "            # but we continue to increase the number of fp/tn (outside\n",
        "            # this if.\n",
        "            fpr.append(fp / n_negatives)\n",
        "            tpr.append(tp / n_positives)\n",
        "            previous_y_p = y_p\n",
        "            \n",
        "        if y_t == 1:\n",
        "            tp += 1\n",
        "        else:\n",
        "            fp += 1\n",
        "            \n",
        "    # we append the last value       \n",
        "    fpr.append(fp / n_negatives)\n",
        "    tpr.append(tp / n_positives)\n",
        "    return fpr, tpr\n",
        "\n",
        "\n",
        "def compute_auc(roc_fpr, roc_tpr):\n",
        "    '''\n",
        "    Function for calculating the area under the ROC curve\n",
        "    '''\n",
        "    previous_fpr, previous_tpr = 0.0, 0.0\n",
        "    auc = 0.0\n",
        "    for fpr, tpr in zip(roc_fpr, roc_tpr):\n",
        "        auc += ((fpr - previous_fpr) * (tpr + previous_tpr)) / 2.0\n",
        "        previous_fpr, previous_tpr = fpr, tpr\n",
        "    \n",
        "    \n",
        "    return auc\n",
        "\n",
        "\n",
        "import matplotlib.pyplot as plt\n",
        "%matplotlib inline\n",
        "\n",
        "# This will plot several ROC curves\n",
        "# thus, list_of_x_list contains a list of x values for every classifier\n",
        "# thus, list_of_y_list contains a list of y values for every classifier\n",
        "# thus, labels contains a descriptive label for every classifier\n",
        "def plot_roc_curves(list_of_x_lists, list_of_y_lists, labels):\n",
        "    '''\n",
        "    Function for plotting the ROC curve\n",
        "    '''\n",
        "    fig = plt.figure()\n",
        "    for x, y, label in zip(list_of_x_lists, list_of_y_lists, labels):\n",
        "        plt.plot(x, y, label=label, linewidth=3, alpha=0.5)\n",
        "    \n",
        "    \n",
        "    plt.plot([0, 1], [0, 1], label = 'random classifier', color = 'grey', linestyle = 'dashed', linewidth = 3)\n",
        "    plt.xlim([0.0, 1.0])\n",
        "    plt.ylim([0.0, 1.02])\n",
        "    plt.xlabel('False positive rate')\n",
        "    plt.ylabel('True positive rate')\n",
        "    plt.title('ROC curves')\n",
        "    plt.legend(loc=\"lower right\")\n",
        "    plt.tight_layout()\n",
        "    plt.show()\n",
        "    \n",
        "    \n",
        "############################# MAIN ################################\n",
        "# Reading the data\n",
        "h4_yTrue, h4_yPred = read_classifier('h4_evaluation.txt')\n",
        "h5_yTrue, h5_yPred = read_classifier('h5_evaluation.txt')\n",
        "\n",
        "# Compute the roc curve\n",
        "h4_fpr, h4_tpr = compute_xy_roc_curve(h4_yTrue, h4_yPred)\n",
        "h5_fpr, h5_tpr = compute_xy_roc_curve(h5_yTrue, h5_yPred)\n",
        "\n",
        "# Calculate the area under the roc curve (AUC)\n",
        "h4_auc = compute_auc(h4_fpr, h4_tpr)\n",
        "h5_auc = compute_auc(h5_fpr, h5_tpr)\n",
        "\n",
        "# printing the AUC of the classifiers & the ROC curves\n",
        "print('AUC of h4: ' + str(np.round(h4_auc, 2)))\n",
        "print('AUC of h5: ' + str(np.round(h5_auc, 2)))\n",
        "plot_roc_curves([h4_fpr, h5_fpr], [h4_tpr, h5_tpr], ['h4 (AUC = %.2f)' % h4_auc, 'h5 (AUC = %.2f)' % h5_auc])"
      ],
      "execution_count": null,
      "outputs": [
        {
          "output_type": "stream",
          "text": [
            "AUC of h4: 0.63\n",
            "AUC of h5: 0.86\n"
          ],
          "name": "stdout"
        },
        {
          "output_type": "display_data",
          "data": {
            "image/png": "[encoded data removed]",
            "text/plain": [
              "<Figure size 432x288 with 1 Axes>"
            ]
          },
          "metadata": {
            "tags": [],
            "needs_background": "light"
          }
        }
      ]
    },
    {
      "cell_type": "markdown",
      "metadata": {
        "id": "zrKhrUdR2OH-"
      },
      "source": [
        "#### Question\n",
        "\n",
        "Would you use only the ROC curve for evaluating the perfomance of h1, h2, and h3 on the dataset from exercise 2, i.e. the one having class imbalance?\n",
        "\n",
        "No, in a situation of class imbalance, like it's often the case in biomedical applications, it's better to evaluate classifiers by also taking into account the precision-recall plot rather than the ROC curve only. In fact, the ROC curve might be misleading in case of class imbalance. "
      ]
    },
    {
      "cell_type": "code",
      "metadata": {
        "colab": {
          "base_uri": "https://localhost:8080/",
          "height": 314
        },
        "id": "gFlKCcBc2OH_",
        "outputId": "9b77def7-2b92-44c0-8c5d-15478fe1a7f5"
      },
      "source": [
        "####### Checking the example #######\n",
        "y_real = np.array([0, 1, 0, 1, 1, 0, 0])\n",
        "confidence = np.array([0.1, 0.6, 0.6, 0.5, 0.4, 0.4, 0.1])\n",
        "\n",
        "# Compute the roc curve\n",
        "fpr_ex, tpr_ex = compute_xy_roc_curve(y_real, confidence)\n",
        "\n",
        "# Calculate the area under the roc curve (AUC)\n",
        "auc = compute_auc(fpr_ex, tpr_ex)\n",
        "\n",
        "print('AUC: ' + str(np.round(auc, 2)))\n",
        "\n",
        "plot_roc_curves([fpr_ex], [tpr_ex], ['AUC = %.2f' % auc])"
      ],
      "execution_count": null,
      "outputs": [
        {
          "output_type": "stream",
          "text": [
            "AUC: 0.75\n"
          ],
          "name": "stdout"
        },
        {
          "output_type": "display_data",
          "data": {
            "image/png": "[encoded data removed]",
            "text/plain": [
              "<Figure size 432x288 with 1 Axes>"
            ]
          },
          "metadata": {
            "tags": [],
            "needs_background": "light"
          }
        }
      ]
    },
    {
      "cell_type": "code",
      "metadata": {
        "colab": {
          "base_uri": "https://localhost:8080/"
        },
        "id": "3x9CMtkH2OH_",
        "outputId": "5c03c36e-9e26-4eea-c8d8-e498459c327a"
      },
      "source": [
        "print('(FPR,\\tTPR)')\n",
        "for x, y in zip(fpr_ex, tpr_ex):\n",
        "    print('(' + str(np.round(x, 2)) + ',\\t' +  str(np.round(y, 2)) + ')')"
      ],
      "execution_count": null,
      "outputs": [
        {
          "output_type": "stream",
          "text": [
            "(FPR,\tTPR)\n",
            "(0.0,\t0.0)\n",
            "(0.25,\t0.33)\n",
            "(0.25,\t0.67)\n",
            "(0.5,\t1.0)\n",
            "(1.0,\t1.0)\n"
          ],
          "name": "stdout"
        }
      ]
    }
  ]
}
